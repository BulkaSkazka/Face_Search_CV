{
 "cells": [
  {
   "cell_type": "code",
   "execution_count": 1,
   "id": "db035b42",
   "metadata": {},
   "outputs": [],
   "source": [
    "import cv2\n",
    "import os"
   ]
  },
  {
   "cell_type": "code",
   "execution_count": 2,
   "id": "e8d97596",
   "metadata": {},
   "outputs": [],
   "source": [
    "# trained neural network\n",
    "# https://github.com/opencv/opencv/blob/master/data/haarcascades/haarcascade_frontalface_default.xml"
   ]
  },
  {
   "cell_type": "code",
   "execution_count": 3,
   "id": "7d3b0aff",
   "metadata": {},
   "outputs": [],
   "source": [
    "img= cv2.imread(\"photo_start/img.jpg\")"
   ]
  },
  {
   "cell_type": "code",
   "execution_count": 4,
   "id": "331d893c",
   "metadata": {},
   "outputs": [],
   "source": [
    "img = cv2.resize(img, (img.shape[0]//2,img.shape[1]//2), interpolation = cv2.INTER_AREA)"
   ]
  },
  {
   "cell_type": "code",
   "execution_count": 5,
   "id": "c54cfecc",
   "metadata": {},
   "outputs": [],
   "source": [
    "gray_img=cv2.cvtColor(img, cv2.COLOR_BGR2GRAY)"
   ]
  },
  {
   "cell_type": "code",
   "execution_count": 6,
   "id": "d2e7245f",
   "metadata": {},
   "outputs": [],
   "source": [
    "# trained neural network\n",
    "# https://github.com/opencv/opencv/blob/master/data/haarcascades/haarcascade_frontalface_default.xml\n",
    "searcher=cv2.CascadeClassifier(\"neural.xml\")"
   ]
  },
  {
   "cell_type": "code",
   "execution_count": 7,
   "id": "0db289a7",
   "metadata": {},
   "outputs": [],
   "source": [
    "results=searcher.detectMultiScale(gray_img,scaleFactor=2.8,minNeighbors=1)"
   ]
  },
  {
   "cell_type": "code",
   "execution_count": 8,
   "id": "304fb63e",
   "metadata": {},
   "outputs": [],
   "source": [
    "for (start_x, start_y, width, height) in results:\n",
    "    cv2.rectangle(img, (start_x, start_y), (start_x+width, start_y+height),(0,0,255),thickness=2)"
   ]
  },
  {
   "cell_type": "code",
   "execution_count": 9,
   "id": "bbf64bb9",
   "metadata": {},
   "outputs": [
    {
     "data": {
      "text/plain": [
       "-1"
      ]
     },
     "execution_count": 9,
     "metadata": {},
     "output_type": "execute_result"
    }
   ],
   "source": [
    "cv2.imshow(\"Result\",img)\n",
    "cv2.waitKey(0)"
   ]
  },
  {
   "cell_type": "code",
   "execution_count": 10,
   "id": "8eedb9b9",
   "metadata": {},
   "outputs": [
    {
     "data": {
      "text/plain": [
       "True"
      ]
     },
     "execution_count": 10,
     "metadata": {},
     "output_type": "execute_result"
    }
   ],
   "source": [
    "os.chdir(\"photo_final\")\n",
    "cv2.imwrite(\"Result.jpg\", img)"
   ]
  },
  {
   "cell_type": "code",
   "execution_count": null,
   "id": "b70c3d20",
   "metadata": {},
   "outputs": [],
   "source": []
  }
 ],
 "metadata": {
  "kernelspec": {
   "display_name": "Python 3",
   "language": "python",
   "name": "python3"
  },
  "language_info": {
   "codemirror_mode": {
    "name": "ipython",
    "version": 3
   },
   "file_extension": ".py",
   "mimetype": "text/x-python",
   "name": "python",
   "nbconvert_exporter": "python",
   "pygments_lexer": "ipython3",
   "version": "3.8.8"
  }
 },
 "nbformat": 4,
 "nbformat_minor": 5
}
